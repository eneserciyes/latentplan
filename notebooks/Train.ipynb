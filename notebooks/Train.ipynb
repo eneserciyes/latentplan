{
 "cells": [
  {
   "cell_type": "code",
   "execution_count": null,
   "id": "46383908-f227-4f36-9cb5-87107ad43445",
   "metadata": {},
   "outputs": [],
   "source": [
    "%load_ext autoreload\n",
    "%autoreload 2"
   ]
  },
  {
   "cell_type": "code",
   "execution_count": null,
   "id": "0e7e537f-92a3-4588-ad4e-61a1d92a5555",
   "metadata": {},
   "outputs": [],
   "source": [
    "import latentplan.utils as utils\n",
    "import latentplan.datasets as datasets\n",
    "from latentplan.models.vqvae import VQContinuousVAE"
   ]
  },
  {
   "cell_type": "code",
   "execution_count": null,
   "id": "a5e51cca-f365-4854-811f-483509fed49e",
   "metadata": {},
   "outputs": [],
   "source": [
    "import os\n",
    "from torch.utils.data.dataloader import DataLoader\n",
    "import torch, numpy as np"
   ]
  },
  {
   "cell_type": "code",
   "execution_count": null,
   "id": "e773da17-5108-475e-8ec1-6c576d5f4dea",
   "metadata": {},
   "outputs": [],
   "source": [
    "class Parser(utils.Parser):\n",
    "    dataset: str = 'halfcheetah-medium-expert-v2'\n",
    "    config: str = 'config.vqvae'\n",
    "\n",
    "#######################\n",
    "######## setup ########\n",
    "#######################\n",
    "\n",
    "args = Parser().parse_args('train')\n",
    "\n",
    "env_name = args.dataset if \"-v\" in args.dataset else args.dataset+\"-v0\"\n",
    "env = datasets.load_environment(env_name)\n",
    "\n",
    "sequence_length = args.subsampled_sequence_length * args.step\n",
    "args.logbase = os.path.expanduser(args.logbase)\n",
    "args.savepath = os.path.expanduser(args.savepath)\n",
    "if not os.path.exists(args.savepath):\n",
    "    os.makedirs(args.savepath)"
   ]
  },
  {
   "cell_type": "markdown",
   "id": "e098c041-1869-4298-a24e-4fac34272925",
   "metadata": {},
   "source": [
    "# Dataset"
   ]
  },
  {
   "cell_type": "code",
   "execution_count": null,
   "id": "6cb3cb72-a136-41cd-83cf-323c865d079b",
   "metadata": {},
   "outputs": [],
   "source": [
    "dataset_class = datasets.SequenceDataset\n",
    "\n",
    "dataset_config = utils.Config(\n",
    "    dataset_class,\n",
    "    savepath=(args.savepath, 'data_config.pkl'),\n",
    "    env=args.dataset,\n",
    "    penalty=args.termination_penalty,\n",
    "    sequence_length=sequence_length,\n",
    "    step=args.step,\n",
    "    discount=args.discount,\n",
    "    disable_goal=args.disable_goal,\n",
    "    normalize_raw=args.normalize,\n",
    "    normalize_reward=args.normalize_reward,\n",
    "    max_path_length=int(args.max_path_length),\n",
    ")\n",
    "\n",
    "dataset = dataset_config()\n",
    "obs_dim = dataset.observation_dim\n",
    "act_dim = dataset.action_dim\n",
    "if args.task_type == \"locomotion\":\n",
    "    transition_dim = obs_dim+act_dim+3\n",
    "else:\n",
    "    transition_dim = 128+act_dim+3\n",
    "\n",
    "block_size = args.subsampled_sequence_length * transition_dim # total number of dimensionalities for a maximum length sequence (T)\n",
    "\n",
    "print(\n",
    "    f'Dataset size: {len(dataset)} | '\n",
    "    f'Joined dim: {transition_dim} '\n",
    "    f'(observation: {obs_dim}, action: {act_dim}) | Block size: {block_size}'\n",
    ")"
   ]
  },
  {
   "cell_type": "markdown",
   "id": "ffce156a-e695-499d-8239-e8b8d037d865",
   "metadata": {},
   "source": [
    "# Model"
   ]
  },
  {
   "cell_type": "code",
   "execution_count": null,
   "id": "3818505b-8fa9-4532-9d18-8e76fb43b2a1",
   "metadata": {},
   "outputs": [],
   "source": [
    "model_config = utils.Config(\n",
    "    VQContinuousVAE,\n",
    "    savepath=(args.savepath, 'model_config.pkl'),\n",
    "    ## discretization\n",
    "    vocab_size=args.N, block_size=block_size,\n",
    "    K=args.K,\n",
    "    ## architecture\n",
    "    n_layer=args.n_layer, n_head=args.n_head, n_embd=args.n_embd * args.n_head,\n",
    "    ## dimensions\n",
    "    observation_dim=obs_dim, action_dim=act_dim, transition_dim=transition_dim,\n",
    "    ## loss weighting\n",
    "    action_weight=args.action_weight, reward_weight=args.reward_weight, value_weight=args.value_weight,\n",
    "    position_weight=args.position_weight,\n",
    "    first_action_weight=args.first_action_weight,\n",
    "    sum_reward_weight=args.sum_reward_weight,\n",
    "    last_value_weight=args.last_value_weight,\n",
    "    trajectory_embd=args.trajectory_embd,\n",
    "    model=args.model,\n",
    "    latent_step=args.latent_step,\n",
    "    ma_update=args.ma_update,\n",
    "    residual=args.residual,\n",
    "    obs_shape=args.obs_shape,\n",
    "    ## dropout probabilities\n",
    "    embd_pdrop=args.embd_pdrop, resid_pdrop=args.resid_pdrop, attn_pdrop=args.attn_pdrop,\n",
    "    bottleneck=args.bottleneck,\n",
    "    masking=args.masking,\n",
    "    state_conditional=args.state_conditional,\n",
    ")\n",
    "\n",
    "\n",
    "model = model_config()\n",
    "if args.normalize:\n",
    "    model.set_padding_vector(dataset.normalize_joined_single(np.zeros(model.transition_dim-1)))"
   ]
  },
  {
   "cell_type": "markdown",
   "id": "b14cb13e-530a-4126-babb-57f50fe70d6c",
   "metadata": {
    "jp-MarkdownHeadingCollapsed": true,
    "tags": []
   },
   "source": [
    "## Model Params"
   ]
  },
  {
   "cell_type": "code",
   "execution_count": null,
   "id": "7572fd32-1b0a-4689-9e4b-082333138340",
   "metadata": {},
   "outputs": [],
   "source": [
    "650 // model.model.transition_dim"
   ]
  },
  {
   "cell_type": "code",
   "execution_count": null,
   "id": "803dade1-b396-4c3b-9d52-e673b47aca3c",
   "metadata": {},
   "outputs": [],
   "source": [
    "i = 0\n",
    "total_param = 0\n",
    "for name, param in model.named_parameters():\n",
    "    i+=1\n",
    "    print(i, \" - \", name, \": \", param.numel())\n",
    "    total_param += param.numel()\n",
    "print(\"Total params:\", total_param)\n"
   ]
  },
  {
   "cell_type": "markdown",
   "id": "f4bfa072-166d-459d-bac5-e264e268ff76",
   "metadata": {},
   "source": [
    "# Train process"
   ]
  },
  {
   "cell_type": "code",
   "execution_count": null,
   "id": "d961fe99-dabf-4c2d-8200-ccb854896d4b",
   "metadata": {},
   "outputs": [],
   "source": [
    "loader = DataLoader(dataset, shuffle=False, batch_size=args.batch_size)\n",
    "for it, batch in enumerate(loader):\n",
    "    with torch.set_grad_enabled(True):\n",
    "        *_, recon_loss, vq_loss, commit_loss = model(*batch)"
   ]
  },
  {
   "cell_type": "code",
   "execution_count": null,
   "id": "194246fa-1e28-4e28-a51a-c2ab32407052",
   "metadata": {},
   "outputs": [],
   "source": [
    "model.padding_vector"
   ]
  },
  {
   "cell_type": "code",
   "execution_count": null,
   "id": "35a84f0a-681e-4237-9b2f-54f89dbe9195",
   "metadata": {},
   "outputs": [],
   "source": []
  }
 ],
 "metadata": {
  "kernelspec": {
   "display_name": "Python 3 (ipykernel)",
   "language": "python",
   "name": "python3"
  },
  "language_info": {
   "codemirror_mode": {
    "name": "ipython",
    "version": 3
   },
   "file_extension": ".py",
   "mimetype": "text/x-python",
   "name": "python",
   "nbconvert_exporter": "python",
   "pygments_lexer": "ipython3",
   "version": "3.8.13"
  }
 },
 "nbformat": 4,
 "nbformat_minor": 5
}
