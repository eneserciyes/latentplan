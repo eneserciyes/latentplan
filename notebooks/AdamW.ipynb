{
 "cells": [
  {
   "cell_type": "code",
   "execution_count": 1,
   "id": "1e559abd-8bfb-47a4-b3c2-3d6b9d24414f",
   "metadata": {},
   "outputs": [],
   "source": [
    "import torch\n",
    "from torch import optim\n",
    "import numpy as np"
   ]
  },
  {
   "cell_type": "code",
   "execution_count": 52,
   "id": "bcf30c56-844f-4716-8a26-8e40d580f410",
   "metadata": {},
   "outputs": [],
   "source": [
    "torch.set_printoptions(precision=12)"
   ]
  },
  {
   "cell_type": "code",
   "execution_count": 53,
   "id": "8c2b5c53-e3fd-4063-8cf2-1a4df822b306",
   "metadata": {},
   "outputs": [],
   "source": [
    "params = [torch.tensor([-0.6293, -0.3660,  0.0548, -1.1583, -0.6298,  0.9790, -0.1850,  0.3825,\n",
    "         0.2715, -0.7551])]"
   ]
  },
  {
   "cell_type": "code",
   "execution_count": 54,
   "id": "ed19d4d5-c548-4c48-9038-270ada063973",
   "metadata": {},
   "outputs": [],
   "source": [
    "for param in params:\n",
    "    param.requires_grad = True"
   ]
  },
  {
   "cell_type": "code",
   "execution_count": 55,
   "id": "b63619d9-64cc-4b4d-9ca7-760715a4a4ce",
   "metadata": {},
   "outputs": [],
   "source": [
    "optimizer = optim.AdamW(params, weight_decay=0.01)"
   ]
  },
  {
   "cell_type": "code",
   "execution_count": 56,
   "id": "5a18a194-9ed9-45fb-8c27-2151daf0c899",
   "metadata": {},
   "outputs": [
    {
     "data": {
      "text/plain": [
       "AdamW (\n",
       "Parameter Group 0\n",
       "    amsgrad: False\n",
       "    betas: (0.9, 0.999)\n",
       "    capturable: False\n",
       "    differentiable: False\n",
       "    eps: 1e-08\n",
       "    foreach: None\n",
       "    lr: 0.001\n",
       "    maximize: False\n",
       "    weight_decay: 0.01\n",
       ")"
      ]
     },
     "execution_count": 56,
     "metadata": {},
     "output_type": "execute_result"
    }
   ],
   "source": [
    "optimizer"
   ]
  },
  {
   "cell_type": "code",
   "execution_count": 62,
   "id": "650c5369-2f03-4310-bebb-cb41107e36f8",
   "metadata": {},
   "outputs": [],
   "source": [
    "loss = params[0][0] ** 2 + params[0][1] * 4 + params[0][2] ** 3 + params[0][3] - params[0][4] * params[0][5]"
   ]
  },
  {
   "cell_type": "code",
   "execution_count": 63,
   "id": "6aa12b2f-4ca2-46c0-9228-cee4ea28e60b",
   "metadata": {},
   "outputs": [
    {
     "data": {
      "text/plain": [
       "tensor(-1.617411017418, grad_fn=<SubBackward0>)"
      ]
     },
     "execution_count": 63,
     "metadata": {},
     "output_type": "execute_result"
    }
   ],
   "source": [
    "loss"
   ]
  },
  {
   "cell_type": "code",
   "execution_count": 64,
   "id": "5c8d8b6a-60e4-404e-8a89-2b7afdc97b14",
   "metadata": {},
   "outputs": [],
   "source": [
    "optimizer.zero_grad()\n",
    "loss.backward()\n",
    "optimizer.step()"
   ]
  },
  {
   "cell_type": "code",
   "execution_count": 65,
   "id": "c298f25b-f1e5-4b03-ab98-1f26f940aeb1",
   "metadata": {},
   "outputs": [
    {
     "data": {
      "text/plain": [
       "tensor([-0.627287387848, -0.367992639542,  0.052800044417, -1.160277009010,\n",
       "        -0.627787411213,  0.976980447769, -0.184996306896,  0.382492303848,\n",
       "         0.271494567394, -0.755084872246], requires_grad=True)"
      ]
     },
     "execution_count": 65,
     "metadata": {},
     "output_type": "execute_result"
    }
   ],
   "source": [
    "params[0]"
   ]
  },
  {
   "cell_type": "code",
   "execution_count": 66,
   "id": "797a1d52-016c-40a3-bb39-819b62ea630a",
   "metadata": {},
   "outputs": [
    {
     "data": {
      "text/plain": [
       "defaultdict(dict,\n",
       "            {tensor([-0.627287387848, -0.367992639542,  0.052800044417, -1.160277009010,\n",
       "                     -0.627787411213,  0.976980447769, -0.184996306896,  0.382492303848,\n",
       "                      0.271494567394, -0.755084872246], requires_grad=True): {'step': tensor(2.),\n",
       "              'exp_avg': tensor([-0.238932728767,  0.759999990463,  0.001679135254,  0.189999997616,\n",
       "                      -0.185909017920,  0.119561374187,  0.000000000000,  0.000000000000,\n",
       "                       0.000000000000,  0.000000000000]),\n",
       "              'exp_avg_sq': tensor([3.161501837894e-03, 3.198400139809e-02, 1.564800697906e-07,\n",
       "                      1.999000087380e-03, 1.913947402500e-03, 7.916329195723e-04,\n",
       "                      0.000000000000e+00, 0.000000000000e+00, 0.000000000000e+00,\n",
       "                      0.000000000000e+00])}})"
      ]
     },
     "execution_count": 66,
     "metadata": {},
     "output_type": "execute_result"
    }
   ],
   "source": [
    "optimizer.state"
   ]
  },
  {
   "cell_type": "code",
   "execution_count": null,
   "id": "b9980645-993f-4ae0-90dd-b09f30487313",
   "metadata": {},
   "outputs": [],
   "source": []
  }
 ],
 "metadata": {
  "kernelspec": {
   "display_name": "Python 3 (ipykernel)",
   "language": "python",
   "name": "python3"
  },
  "language_info": {
   "codemirror_mode": {
    "name": "ipython",
    "version": 3
   },
   "file_extension": ".py",
   "mimetype": "text/x-python",
   "name": "python",
   "nbconvert_exporter": "python",
   "pygments_lexer": "ipython3",
   "version": "3.8.13"
  }
 },
 "nbformat": 4,
 "nbformat_minor": 5
}
