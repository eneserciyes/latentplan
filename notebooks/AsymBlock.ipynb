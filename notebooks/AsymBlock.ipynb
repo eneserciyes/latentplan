{
 "cells": [
  {
   "cell_type": "code",
   "execution_count": null,
   "id": "fa1a6121-b3f6-45f2-bc00-05359b512e7e",
   "metadata": {},
   "outputs": [],
   "source": [
    "import torch\n",
    "from torch import nn"
   ]
  },
  {
   "cell_type": "markdown",
   "id": "9ab0e2f7-829e-418d-b050-2b0cf394b9e5",
   "metadata": {},
   "source": [
    "# MaxPool"
   ]
  },
  {
   "cell_type": "code",
   "execution_count": null,
   "id": "cda601bb-4429-44d7-b870-cc59450f4de6",
   "metadata": {},
   "outputs": [],
   "source": [
    "mp = torch.nn.MaxPool1d(4, stride=2)"
   ]
  },
  {
   "cell_type": "code",
   "execution_count": null,
   "id": "4ee0afc1-5481-4e72-be8f-6419de68c78a",
   "metadata": {},
   "outputs": [],
   "source": [
    "x = torch.tensor([[1,2,3,4,5,6,7,8,9,10]], dtype=torch.float)\n",
    "mp(x)"
   ]
  },
  {
   "cell_type": "markdown",
   "id": "56601a71-c58d-4694-bcb0-3f1ec9d00caf",
   "metadata": {},
   "source": [
    "# AsymBlock"
   ]
  },
  {
   "cell_type": "code",
   "execution_count": null,
   "id": "2a04b02b-8604-45fc-a306-fbff4480ea29",
   "metadata": {},
   "outputs": [],
   "source": [
    "class AsymBlock(nn.Module):\n",
    "    def __init__(self, config, out_tokens):\n",
    "        super().__init__()\n",
    "        self.key = nn.Linear(config.n_embd, config.n_embd)\n",
    "        self.query = nn.Parameter(torch.rand(1, out_tokens, config.n_embd))\n",
    "        self.value = nn.Linear(config.n_embd, config.n_embd)\n",
    "\n",
    "        self.ln1 = nn.LayerNorm(config.n_embd)\n",
    "        self.ln2 = nn.LayerNorm(config.n_embd)\n",
    "        self.attention = nn.MultiheadAttention(config.n_embd, config.n_head, batch_first=True)\n",
    "        self.mlp = nn.Sequential(\n",
    "            nn.Linear(config.n_embd, config.n_embd),\n",
    "        )\n",
    "\n",
    "    def forward(self, x):\n",
    "        x = self.ln1(x)\n",
    "        key = self.key(x)\n",
    "        value = self.value(x)\n",
    "        query = self.query.repeat([x.shape[0], 1, 1])\n",
    "        attn_output, attn_output_weights = self.attention(query, key, value)\n",
    "        x = self.mlp(self.ln2(attn_output))\n",
    "        return x"
   ]
  },
  {
   "cell_type": "markdown",
   "id": "2f705d3e-f105-4c50-9f1b-8b752ad233b5",
   "metadata": {},
   "source": [
    "# nn.MultiHeadAttention"
   ]
  },
  {
   "cell_type": "code",
   "execution_count": null,
   "id": "b4262778-aff7-43ac-99f0-a1d8ec659353",
   "metadata": {},
   "outputs": [],
   "source": [
    "def main():\n",
    "    attention = nn.MultiheadAttention(16, 4, batch_first=True)\n",
    "    query = torch.ones(1, 2, 16)\n",
    "    key = torch.ones(1, 4, 16)\n",
    "    value = torch.ones(1, 4, 16)\n",
    "    print(dir(attention))\n",
    "    att, att_weights = attention(query, key, value)\n",
    "    print(att)\n",
    "    \n",
    "main()"
   ]
  },
  {
   "cell_type": "code",
   "execution_count": null,
   "id": "38c41bd3-53a4-4a6d-b357-afcffd393c09",
   "metadata": {},
   "outputs": [],
   "source": [
    "def init_weights(m):\n",
    "    if isinstance(m, nn.Linear):\n",
    "        torch.nn.init.constant_(m.weight, 1.0)\n",
    "        torch.nn.init.constant_(m.bias, 0.1)"
   ]
  },
  {
   "cell_type": "code",
   "execution_count": null,
   "id": "b4487a0b-f5f3-4b81-95c5-ca69e0fd6c74",
   "metadata": {},
   "outputs": [],
   "source": [
    "def main():\n",
    "    attention = nn.MultiheadAttention(4,2, batch_first=True)\n",
    "    attention.apply(init_weights)\n",
    "    print(attention.in_proj_weight)\n",
    "    # query = torch.ones(1, 2, 4)\n",
    "    # key = torch.ones(1, 2, 4)\n",
    "    # value = torch.ones(1, 2, 4)\n",
    "    # att, att_weights = attention(query, key, value)\n",
    "    # print(att)\n",
    "main()"
   ]
  },
  {
   "cell_type": "markdown",
   "id": "dc9bfbd5-50e4-43cf-afa4-6f54356547bb",
   "metadata": {},
   "source": [
    "# torch.repeat_interleave"
   ]
  },
  {
   "cell_type": "code",
   "execution_count": 67,
   "id": "1d9077fa-8422-4823-a895-29919100fdb3",
   "metadata": {},
   "outputs": [
    {
     "name": "stdout",
     "output_type": "stream",
     "text": [
      "tensor([[[0, 1, 2],\n",
      "         [3, 4, 5]]])\n",
      "torch.Size([1, 2, 3])\n",
      "tensor([[[0, 1, 2, 0, 1, 2],\n",
      "         [3, 4, 5, 3, 4, 5]]])\n",
      "torch.Size([1, 2, 6])\n"
     ]
    }
   ],
   "source": [
    "def main():\n",
    "    x = torch.arange(6).view(1,2,3)\n",
    "    print(x)\n",
    "    print(x.shape)\n",
    "    y = x.repeat(1,1,2)\n",
    "    print(y)\n",
    "    print(y.shape)\n",
    "main()"
   ]
  },
  {
   "cell_type": "code",
   "execution_count": 68,
   "id": "f3afd844-2e27-44b2-b449-0e308c3f17a8",
   "metadata": {},
   "outputs": [
    {
     "name": "stdout",
     "output_type": "stream",
     "text": [
      "tensor([[[0, 1, 2],\n",
      "         [3, 4, 5]]])\n",
      "torch.Size([1, 2, 3])\n",
      "tensor([[[0, 0, 1, 1, 2, 2],\n",
      "         [3, 3, 4, 4, 5, 5]]])\n",
      "torch.Size([1, 2, 6])\n"
     ]
    }
   ],
   "source": [
    "def main():\n",
    "    x = torch.arange(6).view(1,2,3)\n",
    "    print(x)\n",
    "    print(x.shape)\n",
    "    y = torch.repeat_interleave(x,2,2)\n",
    "    print(y)\n",
    "    print(y.shape)\n",
    "main()"
   ]
  },
  {
   "cell_type": "code",
   "execution_count": null,
   "id": "3ce4f349-55c9-47b2-a523-962b0e207bc4",
   "metadata": {},
   "outputs": [],
   "source": []
  }
 ],
 "metadata": {
  "kernelspec": {
   "display_name": "Python 3 (ipykernel)",
   "language": "python",
   "name": "python3"
  },
  "language_info": {
   "codemirror_mode": {
    "name": "ipython",
    "version": 3
   },
   "file_extension": ".py",
   "mimetype": "text/x-python",
   "name": "python",
   "nbconvert_exporter": "python",
   "pygments_lexer": "ipython3",
   "version": "3.8.13"
  }
 },
 "nbformat": 4,
 "nbformat_minor": 5
}
